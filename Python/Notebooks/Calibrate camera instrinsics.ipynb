{
 "cells": [
  {
   "cell_type": "code",
   "execution_count": null,
   "metadata": {},
   "outputs": [],
   "source": [
    "%pylab inline\n",
    "#!/usr/bin/env python -u\n",
    "# -*- coding: utf-8 -*-\n",
    "\n",
    "import glob\n",
    "import os\n",
    "import re\n",
    "import sys\n",
    "\n",
    "import cv2\n",
    "import numpy as np"
   ]
  },
  {
   "cell_type": "markdown",
   "metadata": {},
   "source": [
    "## Step 1. Extract video frames\n",
    "\n",
    "e.g. every 10th frame:\n",
    "\n",
    "```mkdir frames\n",
    "ffmpeg -i VIDEO.mp4 -vf \"setpts=0.1*PTS\" -q 2 frames\\%04d.jpg```"
   ]
  },
  {
   "cell_type": "code",
   "execution_count": null,
   "metadata": {},
   "outputs": [],
   "source": [
    "# working_dir = os.getcwd()\n",
    "# if len(sys.argv) == 2:\n",
    "#     working_dir = sys.argv[1]\n",
    "# elif len(sys.argv) > 2:\n",
    "#     print \"Usage: %s [path]\" % os.path.basename(sys.argv[0])\n",
    "#     sys.exit(-1)\n",
    "\n",
    "working_dir = r\"calibration\\frames\"\n",
    "\n",
    "# Global settings (checkerboard).\n",
    "# pattern_size = (8, 6)\n",
    "# square_size = 24  # mm\n",
    "\n",
    "# Global settings (asymmetric circles).\n",
    "pattern = 'acircles'\n",
    "pattern_size = (4, 11)\n",
    "square_size = 20  # mm"
   ]
  },
  {
   "cell_type": "code",
   "execution_count": null,
   "metadata": {},
   "outputs": [],
   "source": [
    "# 3D world positions of checkerboard corners / circle centres.\n",
    "pattern_points = []\n",
    "\n",
    "if pattern == 'checkerboard' or pattern == 'circles':  # circles UNTESTED (copied from OpenCV calibration.cpp sample)\n",
    "    for y in range(pattern_size[1] - 1, -1, -1):\n",
    "        for x in range(0, pattern_size[0]):\n",
    "            pattern_points.append([x * square_size, y * square_size, 0])\n",
    "\n",
    "elif pattern == 'acircles':\n",
    "    for y in range(pattern_size[1] - 1, -1, -1):\n",
    "        for x in range(0, pattern_size[0]):\n",
    "            pattern_points.append([(2 * x + y % 2) * square_size, y * square_size, 0])\n",
    "\n",
    "pattern_points = np.array(pattern_points, np.float32)"
   ]
  },
  {
   "cell_type": "code",
   "execution_count": null,
   "metadata": {},
   "outputs": [],
   "source": [
    "# All files in the directory.\n",
    "filenames = glob.glob(os.path.join(working_dir, \"*.*\"))\n",
    "\n",
    "# Keep only images with numeric filename.\n",
    "image_pattern = re.compile(\"^\\d+\\.(?:jpe?g|png|bmp|tiff?)$\", re.I)\n",
    "filenames = [e for e in filenames if re.findall(image_pattern, os.path.basename(e))]\n",
    "\n",
    "filenames.sort()\n",
    "print(\"{0} images found.\".format(len(filenames)))"
   ]
  },
  {
   "cell_type": "code",
   "execution_count": null,
   "metadata": {},
   "outputs": [],
   "source": [
    "# Use every tenth image.\n",
    "filenames = filenames[::10]"
   ]
  },
  {
   "cell_type": "code",
   "execution_count": null,
   "metadata": {},
   "outputs": [],
   "source": [
    "# Pick the n sharpest images from a subset of all images.\n",
    "# (This cell can be skipped to process all images, e.g. if they were manually selected.)\n",
    "\n",
    "# First compute sharpness of every image using variance of Laplacian.\n",
    "# See 'LAPV' case of Matlab code in <http://stackoverflow.com/a/7768918/>.\n",
    "sharpness = []\n",
    "for filename in filenames:\n",
    "    image = cv2.imread(filename, 0)\n",
    "    sharpness.append((filename, cv2.Laplacian(image, cv2.CV_64F).var()))\n",
    "\n",
    "# Sort by sharpness (highest first)\n",
    "sharpness.sort(key=lambda x: x[1], reverse=True)\n",
    "# plot(np.array([e[1] for e in blurriness]))\n",
    "# for filename, blur in blurriness[:20]:\n",
    "#     image = cv2.imread(filename, 0)\n",
    "#     output_filename = \"%sblurry-%s-%06.2f.jpg\" % (filename[:-8], filename[-8:-4], blur)\n",
    "#     cv2.imwrite(output_filename, image)\n",
    "\n",
    "# Keep only the sharpest n images.\n",
    "filenames = [filename for filename, sharpness in sharpness[:20]]\n",
    "filenames.sort()"
   ]
  },
  {
   "cell_type": "code",
   "execution_count": null,
   "metadata": {},
   "outputs": [],
   "source": [
    "# Increase the maximum area of the blob detector to also detect really big circles.\n",
    "params = cv2.SimpleBlobDetector_Params()\n",
    "params.maxArea = 150000\n",
    "detector = cv2.SimpleBlobDetector_create(params)\n",
    "\n",
    "# # # Detect blobs.\n",
    "# img = cv2.imread(r'calibration\\0101.jpg', 0)\n",
    "# keypoints = detector.detect(img)\n",
    "\n",
    "# im_with_keypoints = cv2.drawKeypoints(img, keypoints, np.array([]), (0, 0, 255), cv2.DRAW_MATCHES_FLAGS_DRAW_RICH_KEYPOINTS)\n",
    "# # imshow(im_with_keypoints)\n",
    "# cv2.imwrite(r'calibration\\0101-features.jpg', im_with_keypoints)"
   ]
  },
  {
   "cell_type": "code",
   "execution_count": null,
   "metadata": {},
   "outputs": [],
   "source": [
    "world_points = []\n",
    "image_points = []\n",
    "filenames_used = []\n",
    "\n",
    "for filename in filenames:\n",
    "    if filename[-3:].lower() not in ['jpg', 'png', 'bmp', 'tif']:\n",
    "        continue\n",
    "    print(\"Processing image '%s' ... \" % filename, end='')\n",
    "\n",
    "    ## Read points from cache file if it exists.\n",
    "    cacheFilename = \"{filename}-{pattern}-points.npz\".format(**locals())\n",
    "    if os.path.exists(cacheFilename):\n",
    "        with open(cacheFilename, 'rb') as fh:\n",
    "            cacheFile = np.load(fh)\n",
    "            image_size = (cacheFile['image_size'][1], cacheFile['image_size'][0])\n",
    "            points = cacheFile['points']\n",
    "            print(\"Cached.\")\n",
    "            \n",
    "    else:  ## Compute points from scratch and cache them\n",
    "        image = cv2.imread(filename)\n",
    "        image_size = image.shape[:2]\n",
    "\n",
    "        if pattern == 'checkerboard':\n",
    "            (retval, points) = cv2.findChessboardCorners(image, pattern_size)\n",
    "        elif pattern == 'circles':  # UNTESTED\n",
    "            (retval, points) = cv2.findCirclesGrid(image, pattern_size, flags=cv2.CALIB_CB_SYMMETRIC_GRID | cv2.CALIB_CB_CLUSTERING, blobDetector=detector)\n",
    "        elif pattern == 'acircles':\n",
    "            (retval, points) = cv2.findCirclesGrid(image, pattern_size, flags=cv2.CALIB_CB_ASYMMETRIC_GRID)\n",
    "\n",
    "        if not retval:\n",
    "            print(\"Points not found.\")\n",
    "            continue\n",
    "\n",
    "        # Write images with detected points\n",
    "        cv2.drawChessboardCorners(image, pattern_size, points, retval)\n",
    "        cv2.imwrite(filename + \"-points.jpeg\", image)  # using '.jpeg' so that these images are never used as inputs\n",
    "\n",
    "        ## Cache point positions.\n",
    "        with open(cacheFilename, 'wb') as fh:\n",
    "            np.savez(fh, image_size=image_size, points=points)\n",
    "            image_size = (image_size[1], image_size[0])\n",
    "\n",
    "        print(\"Done.\")\n",
    "\n",
    "    filenames_used.append(filename)\n",
    "    world_points.append(pattern_points)\n",
    "    image_points.append(points.reshape(-1, 2))"
   ]
  },
  {
   "cell_type": "code",
   "execution_count": null,
   "metadata": {},
   "outputs": [],
   "source": [
    "len(filenames_used)"
   ]
  },
  {
   "cell_type": "code",
   "execution_count": null,
   "metadata": {},
   "outputs": [],
   "source": [
    "# Initial guess of calibration.\n",
    "# camera_matrix = np.matrix([[2 * 960., 0., image_size[0] / 2.], [0., 2 * 960., image_size[1] / 2.], [0., 0., 1.]])\n",
    "# dist_coefs = np.array([-0.27, 0.058, 0., 0., 0.])\n",
    "camera_matrix, dist_coefs = None, None\n",
    "\n",
    "# Calibration flags.\n",
    "calibration_flags = (cv2.CALIB_USE_INTRINSIC_GUESS if camera_matrix is not None and dist_coefs is not None else 0)\n",
    "calibration_flags |= cv2.CALIB_FIX_ASPECT_RATIO\n",
    "# calibration_flags |= cv2.CALIB_RATIONAL_MODEL\n",
    "# calibration_flags |= cv2.CALIB_FIX_PRINCIPAL_POINT\n",
    "calibration_flags |= cv2.CALIB_ZERO_TANGENT_DIST\n",
    "\n",
    "# Intrinsic calibration.\n",
    "(rms, camera_matrix, dist_coefs, rvecs, tvecs) = cv2.calibrateCamera(world_points, image_points, image_size,\n",
    "    camera_matrix, dist_coefs, flags=calibration_flags\n",
    "    # | cv2.CALIB_FIX_FOCAL_LENGTH | cv2.CALIB_FIX_K1 | cv2.CALIB_FIX_K2 | cv2.CALIB_FIX_K3 | cv2.CALIB_FIX_K4 | cv2.CALIB_FIX_K5 | cv2.CALIB_FIX_ASPECT_RATIO,\n",
    ")\n",
    "\n",
    "print()\n",
    "# print \"K  =\", np.array_str(camera_matrix, precision=6)\n",
    "print(\"K  =\", camera_matrix)\n",
    "# print \"kc =\", np.array_str(dist_coefs.ravel(), precision=6)\n",
    "print(\"kc =\", dist_coefs)\n",
    "print()\n",
    "print(\"Reprojection error: %.6f\" % rms)\n",
    "\n",
    "with open(os.path.join(working_dir, 'intrinsics.txt'), 'w') as fh:\n",
    "    fh.write(\"KMatrix = %s\\n\"    % ' '.join(str(e) for e in camera_matrix.ravel()))\n",
    "    fh.write(\"DistCoeffs = %s\\n\" % ' '.join(str(e) for e in dist_coefs.ravel()))\n",
    "    fh.write(\"ImageSize = %s\\n\" % ' '.join(str(e) for e in image_size))\n",
    "    fh.write(\"ReprojError = %f\\n\" % rms)"
   ]
  },
  {
   "cell_type": "markdown",
   "metadata": {},
   "source": [
    "----\n",
    "## Undistortion"
   ]
  },
  {
   "cell_type": "code",
   "execution_count": null,
   "metadata": {},
   "outputs": [],
   "source": [
    "# Read in camera intrinsics.\n",
    "with open(os.path.join(working_dir, 'intrinsics.txt'), 'r') as fh:\n",
    "    for line in fh:\n",
    "        line = line.strip()\n",
    "        var, value = [e.strip() for e in line.split('=')]\n",
    "        if var == 'KMatrix': camera_matrix = np.array([float(e) for e in value.split()]).reshape([3,3])\n",
    "        if var == 'DistCoeffs': dist_coefs = np.array([float(e) for e in value.split()])\n",
    "        if var == 'ImageSize': image_size = tuple([int(e) for e in value.split()])\n",
    "        if var == 'ReprojError': rms = float(value)\n",
    "\n",
    "print(\"Read calibration data:\")\n",
    "print(\"  KMatrix = %s\"    % str(camera_matrix))\n",
    "print(\"  DistCoeffs = %s\" % str(dist_coefs))\n",
    "print(\"  ImageSize = %s\" % str(image_size))\n",
    "print(\"  ReprojError = %f\" % rms)"
   ]
  },
  {
   "cell_type": "code",
   "execution_count": null,
   "metadata": {},
   "outputs": [],
   "source": [
    "# image_size = (1080, 1920)\n",
    "\n",
    "# new_camera_matrix = np.matrix(camera_matrix)\n",
    "# new_camera_matrix = np.matrix([[camera_matrix[0, 0], 0, image_size[0] / 2.], [0, camera_matrix[1, 1], image_size[1] / 2.], [0, 0, 1]])\n",
    "# new_camera_matrix = np.matrix([[1900, 0, image_size[0] / 2.], [0, 1900, image_size[1] / 2.], [0, 0, 1]])  # iPhone X\n",
    "# new_camera_matrix = np.matrix([[1100, 0, image_size[0] / 2.], [0, 1100, image_size[1] / 2.], [0, 0, 1]])  # Huawei P9 lite\n",
    "new_camera_matrix = np.matrix([[1100, 0, image_size[0] / 2.], [0, 1100, image_size[1] / 2.], [0, 0, 1]])  # GoPro 2028p\n",
    "# new_camera_matrix = np.matrix([[800, 0, image_size[0] / 2.], [0, 800, image_size[1] / 2.], [0, 0, 1]])  # GoPro 1440p\n",
    "print(new_camera_matrix)"
   ]
  },
  {
   "cell_type": "code",
   "execution_count": null,
   "metadata": {},
   "outputs": [],
   "source": [
    "# Projecting world points into images for verification.\n",
    "for index, filename in enumerate(filenames_used):\n",
    "    print(\"Visualising image '%s' ... \" % filename, end='')\n",
    "\n",
    "    proj_points = new_camera_matrix * (np.mat(cv2.Rodrigues(rvecs[index])[0]) * np.mat(world_points[index].T) + tvecs[index])\n",
    "    proj_points = np.divide(proj_points[:2,:], proj_points[2,:])\n",
    "    \n",
    "    img = cv2.imread(filename)\n",
    "    img = cv2.undistort(img, camera_matrix, dist_coefs, newCameraMatrix=new_camera_matrix)\n",
    "    cv2.imwrite(filename + \"-undistorted.jpeg\", img)\n",
    "    cv2.drawChessboardCorners(img, pattern_size, np.array(proj_points.T, np.float32)[:,np.newaxis,:], True)\n",
    "    cv2.imwrite(filename + \"-points-projected.jpeg\", img)\n",
    "\n",
    "    print(\"Done.\")"
   ]
  },
  {
   "cell_type": "code",
   "execution_count": null,
   "metadata": {},
   "outputs": [],
   "source": [
    "# Undistort all frames.\n",
    "input_dir = working_dir\n",
    "output_dir = os.path.join(os.path.dirname(input_dir), \"undistorted\")\n",
    "if not os.path.exists(output_dir):\n",
    "    os.mkdir(output_dir)\n",
    "    \n",
    "# with file(os.path.join(output_dir, 'calibration.txt'), 'w') as fh:\n",
    "#     fh.write(\"undistorted images with K =\\n{new_camera_matrix}\".format(**locals()))\n",
    "with open(os.path.join(output_dir, 'instrinsics.txt'), 'w') as fh:\n",
    "    fh.write(\"KMatrix = %s\\n\"    % ' '.join(str(e) for e in np.array(new_camera_matrix).ravel()))\n",
    "    fh.write(\"DistCoeffs = 0 0 0 0 0\\n\")\n",
    "\n",
    "for filename in glob.glob(os.path.join(input_dir, \"*.jpg\")):\n",
    "    print(\"Undistorting image '%s' ... \" % filename, end='')\n",
    "    img = cv2.imread(filename)\n",
    "    img = cv2.undistort(img, camera_matrix, dist_coefs, newCameraMatrix=new_camera_matrix)\n",
    "    cv2.imwrite(os.path.join(output_dir, 'undistorted-' + os.path.basename(filename)), img)\n",
    "    print(\"Done.\")"
   ]
  }
 ],
 "metadata": {
  "kernelspec": {
   "display_name": "Python 3",
   "language": "python",
   "name": "python3"
  },
  "language_info": {
   "codemirror_mode": {
    "name": "ipython",
    "version": 3
   },
   "file_extension": ".py",
   "mimetype": "text/x-python",
   "name": "python",
   "nbconvert_exporter": "python",
   "pygments_lexer": "ipython3",
   "version": "3.7.4"
  }
 },
 "nbformat": 4,
 "nbformat_minor": 1
}
