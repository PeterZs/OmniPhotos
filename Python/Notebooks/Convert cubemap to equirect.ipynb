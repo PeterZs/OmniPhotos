{
 "cells": [
  {
   "cell_type": "code",
   "execution_count": null,
   "metadata": {},
   "outputs": [],
   "source": [
    "%pylab inline\n",
    "#!/usr/bin/env python -u\n",
    "# -*- coding: utf-8 -*-\n",
    "\n",
    "import os\n",
    "import cv2\n",
    "import glob\n",
    "import imageio\n",
    "import numpy as np\n",
    "\n",
    "## Install the following Python libraries:\n",
    "##   pip install cffi rotlib skylibs\n",
    "##\n",
    "## Tip:\n",
    "## If you get an error like \"OSError: cannot load library '...\\ezexr\\libstdc++-6.dll': error 0x7e.\",\n",
    "## comment out the line \"from hdrio import imread\" in ...\\Lib\\site-packages\\envmap\\environmentmap.py.\n",
    "import envmap"
   ]
  },
  {
   "cell_type": "code",
   "execution_count": null,
   "metadata": {},
   "outputs": [],
   "source": [
    "def assembleEquirectFromCubemap(cubemap_prefix):\n",
    "\n",
    "    # top, bottom, left, right, front, back\n",
    "    cube_sides = ['u', 'd', 'l', 'r', 'f', 'b']\n",
    "    cube_sides = [cubemap_prefix + e + \".png\" for e in cube_sides]\n",
    "    cube_sides = [np.array(imageio.imread(e) / 255.) for e in cube_sides]\n",
    "\n",
    "    env = envmap.EnvironmentMap.fromSkybox(*cube_sides)\n",
    "    env.convertTo('latlong', targetDim=cube_sides[0].shape[0])  # 1K cubemap => 2K equirect\n",
    "#     env.convertTo('latlong', targetDim=(3 * cube_sides[0].shape[0]) // 2)  # 1K cubemap => 3K equirect\n",
    "    equirect = (255 * env.data).astype(np.uint8)\n",
    "\n",
    "    imageio.imwrite(cubemap_prefix[:-8] + f\"equirect-{equirect.shape[1]}.jpg\", equirect, quality=90, optimize=True)\n",
    "    imageio.imwrite(cubemap_prefix[:-8] + f\"equirect-{equirect.shape[1]}.png\", equirect)"
   ]
  },
  {
   "cell_type": "code",
   "execution_count": null,
   "metadata": {},
   "outputs": [],
   "source": [
    "def assembleEquirectFromReplicaCubemap(cubemap_prefix):\n",
    "\n",
    "    # top, bottom, left, right, front, back\n",
    "    cube_sides = ['U', 'D', 'L', 'R', 'F', 'B']\n",
    "    cube_sides = [cubemap_prefix + e + \".jpg\" for e in cube_sides]\n",
    "    cube_sides = [np.array(imageio.imread(e) / 255.) for e in cube_sides]\n",
    "    cube_sides[0] = cv2.rotate(cube_sides[0], 0) ## rotate up view\n",
    "    cube_sides[1] = cv2.rotate(cube_sides[1], 2) ## rotate down view\n",
    "\n",
    "    env = envmap.EnvironmentMap.fromSkybox(*cube_sides)\n",
    "#     env.convertTo('latlong', targetDim=cube_sides[0].shape[0])\n",
    "    env.convertTo('latlong', targetDim=(3 * cube_sides[0].shape[0]) // 2)\n",
    "    equirect = (255 * env.data).astype(np.uint8)\n",
    "\n",
    "    imageio.imwrite(cubemap_prefix + f\"equirect-{equirect.shape[1]}.jpg\", equirect, quality=90, optimize=True)\n",
    "#     imageio.imwrite(cubemap_prefix + f\"equirect-{equirect.shape[1]}.png\", equirect)\n",
    "\n",
    "# assembleEquirectFromReplicaCubemap(r\"G:\\OmniPhoto\\Data\\GT-Replica\\room_1\\cubmap_image\\image\\room_1_0040_\")"
   ]
  },
  {
   "cell_type": "code",
   "execution_count": null,
   "metadata": {},
   "outputs": [],
   "source": [
    "code_dir = os.path.dirname(os.getcwd())\n",
    "screenshot_dir = os.path.join(code_dir, 'Screenshots')\n",
    "cubemaps = glob.glob(screenshot_dir + \"\\*-cubemap-f.png\")\n",
    "\n",
    "for f in cubemaps:\n",
    "    cubemap_prefix_with_trailing_hyphen = f[:-5]\n",
    "    print(f\"Assembling cubemap '{cubemap_prefix_with_trailing_hyphen[:-9]}' ...\")\n",
    "    assembleEquirectFromCubemap(cubemap_prefix_with_trailing_hyphen)"
   ]
  },
  {
   "cell_type": "code",
   "execution_count": null,
   "metadata": {},
   "outputs": [],
   "source": [
    "# ## Lets try ERP to cubemap\n",
    "# filename = r\"G:\\OmniPhotos\\Data\\ParadeGardens\\Input\\panoramic-0186.jpg\"\n",
    "# image = np.array(imageio.imread(filename) / 255.)  # convert to unit range RGB\n",
    "# # imshow(image)\n",
    "\n",
    "# env = envmap.EnvironmentMap(image, 'latlong')\n",
    "# env.convertTo('cube')\n",
    "# imshow(env.data)"
   ]
  }
 ],
 "metadata": {
  "kernelspec": {
   "display_name": "Python 3",
   "language": "python",
   "name": "python3"
  },
  "language_info": {
   "codemirror_mode": {
    "name": "ipython",
    "version": 3
   },
   "file_extension": ".py",
   "mimetype": "text/x-python",
   "name": "python",
   "nbconvert_exporter": "python",
   "pygments_lexer": "ipython3",
   "version": "3.7.7"
  }
 },
 "nbformat": 4,
 "nbformat_minor": 2
}
