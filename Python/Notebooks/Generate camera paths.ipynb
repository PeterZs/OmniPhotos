{
 "cells": [
  {
   "cell_type": "code",
   "execution_count": null,
   "metadata": {},
   "outputs": [],
   "source": [
    "%pylab inline\n",
    "\n",
    "import csv\n",
    "import os\n",
    "import numpy as np\n",
    "from scipy.spatial.transform import Rotation\n",
    "\n",
    "config_dir = r\"G:\\OmniPhotos\\Data\\KyotoShrines\\Config\\\\\""
   ]
  },
  {
   "cell_type": "code",
   "execution_count": null,
   "metadata": {},
   "outputs": [],
   "source": [
    "def write_pose(writer, name, R, C):\n",
    "    if type(name) is int:\n",
    "        name = \"%04d\" % name\n",
    "\n",
    "#     ## Basic writing of floats\n",
    "#     writer.writerow([name] + R.ravel().tolist() + C.ravel().tolist())\n",
    "\n",
    "    ## Neater writing of floats with truncation of zeros etc.\n",
    "    R_formatted = np.array2string(R.ravel(), precision=6, separator=',', prefix='', suffix='', suppress_small=True)\n",
    "    C_formatted = np.array2string(C.ravel(), precision=4, separator=',', prefix='', suffix='', suppress_small=True)\n",
    "    R_formatted = [e.strip() for e in R_formatted[1:-1].split(',')]    \n",
    "    C_formatted = [e.strip() for e in C_formatted[1:-1].split(',')]\n",
    "    writer.writerow([name] + R_formatted + C_formatted)"
   ]
  },
  {
   "cell_type": "code",
   "execution_count": null,
   "metadata": {},
   "outputs": [],
   "source": [
    "## Skylibs cubemaps\n",
    "\n",
    "path_csv = config_dir + \"cubemap.csv\"\n",
    "\n",
    "with open(path_csv, 'w', newline='') as csvfile:\n",
    "    writer = csv.writer(csvfile, delimiter=',', quoting=csv.QUOTE_NONE)\n",
    "    \n",
    "    C = np.array([0, 0, 0])\n",
    "    \n",
    "    ## cubemap path\n",
    "    Rb = Rotation.from_euler('y',   0, degrees=True).as_dcm()\n",
    "    Rl = Rotation.from_euler('y',  90, degrees=True).as_dcm()\n",
    "    Rf = Rotation.from_euler('y', 180, degrees=True).as_dcm()\n",
    "    Rr = Rotation.from_euler('y', 270, degrees=True).as_dcm()\n",
    "    Ru = Rotation.from_euler('yx', [180, 90], degrees=True).as_dcm()\n",
    "    Rd = Rotation.from_euler('yx', [180, -90], degrees=True).as_dcm()\n",
    "    write_pose(writer, \"cubemap-f\", Rf, C)\n",
    "    write_pose(writer, \"cubemap-r\", Rr, C)\n",
    "    write_pose(writer, \"cubemap-b\", Rb, C)\n",
    "    write_pose(writer, \"cubemap-l\", Rl, C)\n",
    "    write_pose(writer, \"cubemap-u\", Ru, C)\n",
    "    write_pose(writer, \"cubemap-d\", Rd, C)"
   ]
  },
  {
   "cell_type": "code",
   "execution_count": null,
   "metadata": {},
   "outputs": [],
   "source": [
    "## Replica cubemaps\n",
    "\n",
    "path_csv = config_dir + \"Replica-cubemaps.csv\"\n",
    "\n",
    "with open(os.path.join(config_dir, '../cubmap_image/frame_trajectory_mp.csv'), newline='') as trajectory_file:\n",
    "    reader = csv.reader(trajectory_file, delimiter=' ')\n",
    "    \n",
    "    with open(path_csv, 'w', newline='') as path_csv_file:\n",
    "        writer = csv.writer(path_csv_file, delimiter=',', quoting=csv.QUOTE_NONE)\n",
    "        \n",
    "        for row in reader:\n",
    "            if row[0][0] == '#': continue\n",
    "            print(row)\n",
    "            index, t_x, t_y, t_z = (int(row[0]) - 1, float(row[1]), float(row[2]), float(row[3]))\n",
    "\n",
    "            C = np.array([t_x, t_y, t_z])\n",
    "\n",
    "            ## cubemap path\n",
    "            Rb = Rotation.from_euler('y',   0, degrees=True).as_dcm()\n",
    "            Rl = Rotation.from_euler('y',  90, degrees=True).as_dcm()\n",
    "            Rf = Rotation.from_euler('y', 180, degrees=True).as_dcm()\n",
    "            Rr = Rotation.from_euler('y', 270, degrees=True).as_dcm()\n",
    "            Ru = Rotation.from_euler('yx', [90, 90], degrees=True).as_dcm()\n",
    "            Rd = Rotation.from_euler('yx', [90, -90], degrees=True).as_dcm()\n",
    "            write_pose(writer, f\"{index:04}_F\", Rf, C)\n",
    "            write_pose(writer, f\"{index:04}_R\", Rr, C)\n",
    "            write_pose(writer, f\"{index:04}_B\", Rb, C)\n",
    "            write_pose(writer, f\"{index:04}_L\", Rl, C)\n",
    "            write_pose(writer, f\"{index:04}_U\", Ru, C)\n",
    "            write_pose(writer, f\"{index:04}_D\", Rd, C)\n",
    "#             break\n"
   ]
  },
  {
   "cell_type": "code",
   "execution_count": null,
   "metadata": {},
   "outputs": [],
   "source": [
    "path_csv = config_dir + \"linear.csv\"\n",
    "\n",
    "with open(path_csv, 'w', newline='') as csvfile:\n",
    "    writer = csv.writer(csvfile, delimiter=',', quoting=csv.QUOTE_NONE)\n",
    "    \n",
    "    R = np.eye(3)\n",
    "#     C = np.array([0, 0, 0])\n",
    "        \n",
    "    for i in range(0, 100):\n",
    "        C = np.array([0, 0, i - 50])\n",
    "        write_pose(writer, i, R, C)"
   ]
  },
  {
   "cell_type": "code",
   "execution_count": null,
   "metadata": {},
   "outputs": [],
   "source": [
    "path_csv = config_dir + \"path.csv\"\n",
    "\n",
    "with open(path_csv, 'w', newline='') as csvfile:\n",
    "    writer = csv.writer(csvfile, delimiter=',', quoting=csv.QUOTE_NONE)\n",
    "    \n",
    "    C = np.array([0, 0, 0])\n",
    "        \n",
    "    for i in range(0, 100):\n",
    "        R = Rotation.from_euler('y', 180 + i * 3.6, degrees=True).as_dcm()\n",
    "        writer.writerow(['%04i' % i] + R.ravel().tolist() + C.ravel().tolist())\n",
    "        write_pose(writer, i, R, C)"
   ]
  },
  {
   "cell_type": "code",
   "execution_count": null,
   "metadata": {},
   "outputs": [],
   "source": [
    "R"
   ]
  }
 ],
 "metadata": {
  "kernelspec": {
   "display_name": "Python 3",
   "language": "python",
   "name": "python3"
  },
  "language_info": {
   "codemirror_mode": {
    "name": "ipython",
    "version": 3
   },
   "file_extension": ".py",
   "mimetype": "text/x-python",
   "name": "python",
   "nbconvert_exporter": "python",
   "pygments_lexer": "ipython3",
   "version": "3.7.4"
  }
 },
 "nbformat": 4,
 "nbformat_minor": 2
}
