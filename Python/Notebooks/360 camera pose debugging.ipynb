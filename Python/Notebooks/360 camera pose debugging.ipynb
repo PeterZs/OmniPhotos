{
 "cells": [
  {
   "cell_type": "code",
   "execution_count": null,
   "metadata": {},
   "outputs": [],
   "source": [
    "%pylab inline\n",
    "\n",
    "import csv\n",
    "import imageio\n",
    "import numpy as np\n",
    "import os"
   ]
  },
  {
   "cell_type": "markdown",
   "metadata": {},
   "source": [
    "----\n",
    "## Load cameras + point cloud from OmniPhotos cache"
   ]
  },
  {
   "cell_type": "code",
   "execution_count": null,
   "metadata": {},
   "outputs": [],
   "source": [
    "dataset_path = r\"G:\\OmniPhotos\\Data\\KobeGarden6\"\n",
    "cache_path = dataset_path + r\"\\Cache\\180-4k-2k-DIS-bugfix\"\n",
    "cameras_csv = cache_path + r\"\\Cameras.csv\"\n",
    "cameras = []\n",
    "\n",
    "with open(cameras_csv, newline='') as csvfile:\n",
    "    reader = csv.reader(csvfile, delimiter=',', quotechar='\"')\n",
    "    for row in reader:\n",
    "        cameras.append({\n",
    "            'frame': int(row[0]),\n",
    "            'K': np.mat([float(e) for e in row[1:10]]).reshape([3,3]),\n",
    "            'R': np.mat([float(e) for e in row[10:19]]).reshape([3,3]),\n",
    "            'C': np.mat([float(e) for e in row[19:22]]).reshape([3,1]),\n",
    "            'image': row[22],\n",
    "            # ignoring the flow fields\n",
    "        })\n",
    "\n",
    "for camera in cameras:\n",
    "#     print(camera)\n",
    "    camera['t'] = -camera['R'] * camera['C']"
   ]
  },
  {
   "cell_type": "code",
   "execution_count": null,
   "metadata": {},
   "outputs": [],
   "source": [
    "pointcloud_csv = cache_path + r\"\\PointCloud.csv\"\n",
    "points = []\n",
    "\n",
    "with open(pointcloud_csv, newline='') as csvfile:\n",
    "    reader = csv.reader(csvfile, delimiter=',', quotechar='\"')\n",
    "    for row in reader:\n",
    "        points.append({\n",
    "            'index': int(row[0]),\n",
    "            'X': np.mat([float(e) for e in row[1:4]]).reshape([3,1]),\n",
    "            'colour': np.mat([float(e) for e in row[4:7]]).reshape([3,1]),\n",
    "            'error': float(row[7])\n",
    "        })\n",
    "\n",
    "# for point in points:\n",
    "#     print(point)"
   ]
  },
  {
   "cell_type": "code",
   "execution_count": null,
   "metadata": {},
   "outputs": [],
   "source": [
    "if not os.path.exists(\"scratch\"):\n",
    "    os.makedirs(\"scratch\")\n",
    "\n",
    "for camera in cameras:\n",
    "    print(\"Reading image \" + camera['image'] + \" ...\")\n",
    "    img = imageio.imread(camera['image'])\n",
    "\n",
    "    for point in points[:2000]:\n",
    "        point_cam = camera['R'] * point['X'] + camera['t']\n",
    "\n",
    "        ## Convert from camera coords to pixel coords using OpenVSLAM code:\n",
    "        ## https://github.com/xdspacelab/openvslam/blob/master/src/openvslam/camera/equirectangular.h\n",
    "        bearing = point_cam / np.linalg.norm(point_cam)\n",
    "#         print(f\"bearing^T = {bearing.T}\")\n",
    "\n",
    "        ## convert to unit polar coordinates\n",
    "        latitude = -np.arcsin(bearing[1])\n",
    "        longitude = np.arctan2(bearing[0], bearing[2]);\n",
    "#         print(f\"latitude = {latitude}\")\n",
    "#         print(f\"longitude = {longitude}\")\n",
    "\n",
    "        ## convert to pixel image coordinated\n",
    "        x = img.shape[1] * (0.5 + longitude / (2.0 * np.pi))\n",
    "        y = img.shape[0] * (0.5 - latitude / np.pi);\n",
    "#         print(f\"(x, y) = ({x}, {y})\")\n",
    "\n",
    "        ## round to nearest pixel\n",
    "        x = int(x + 0.5)\n",
    "        y = int(y + 0.5)\n",
    "\n",
    "        ## mark the point\n",
    "        img[y-7:y+8,x-7:x+8,:] = 255\n",
    "        img[y-4:y+5,x-4:x+5,:] = 0\n",
    "\n",
    "    ## save the image\n",
    "    imageio.imwrite(f\"scratch/{camera['frame']}.jpg\", img)"
   ]
  },
  {
   "cell_type": "code",
   "execution_count": null,
   "metadata": {},
   "outputs": [],
   "source": [
    "## Rename images sequentially to turn into video with ffmpeg\n",
    "for i, f in enumerate(os.listdir('scratch'), start=1):\n",
    "    os.rename(os.path.join('scratch', f), 'scratch/renamed-%04d.jpg' % i)"
   ]
  },
  {
   "cell_type": "code",
   "execution_count": null,
   "metadata": {},
   "outputs": [],
   "source": [
    "## Run this manually to create a video:\n",
    "#> ffmpeg -i scratch/renamed-%04d.jpg -c:v libx264 -crf 19 -level 3.1 -preset slow -tune film -movflags faststart -filter:v scale=-1:960 -sws_flags lanczos -threads 0 -nostdin output.mp4"
   ]
  }
 ],
 "metadata": {
  "kernelspec": {
   "display_name": "Python 3",
   "language": "python",
   "name": "python3"
  },
  "language_info": {
   "codemirror_mode": {
    "name": "ipython",
    "version": 3
   },
   "file_extension": ".py",
   "mimetype": "text/x-python",
   "name": "python",
   "nbconvert_exporter": "python",
   "pygments_lexer": "ipython3",
   "version": "3.7.4"
  }
 },
 "nbformat": 4,
 "nbformat_minor": 2
}
