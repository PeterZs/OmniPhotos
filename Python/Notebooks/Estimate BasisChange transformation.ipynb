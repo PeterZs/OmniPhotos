{
 "cells": [
  {
   "cell_type": "code",
   "execution_count": null,
   "metadata": {},
   "outputs": [],
   "source": [
    "%pylab inline\n",
    "import csv\n",
    "import numpy as np\n",
    "\n",
    "def read_pointcloud_csv(filename):\n",
    "    lines = []\n",
    "    with open(filename, 'r') as csvfile:\n",
    "        reader = csv.reader(csvfile, delimiter=',')\n",
    "        for row in reader:\n",
    "            lines.append(row)\n",
    "    return np.array(lines, np.float64)"
   ]
  },
  {
   "cell_type": "code",
   "execution_count": null,
   "metadata": {},
   "outputs": [],
   "source": [
    "# cache_dir = r\"C:\\Richardt\\OmniPhotos\\data\\Casual3D\\boatshed_pano\\Cache\\29-2k-2k-DIS\"\n",
    "# cache_dir = r\"C:\\Richardt\\OmniPhotos\\data\\Casual3D\\creepyattic_pano\\Cache\\29-2k-2k-DIS\"\n",
    "# cache_dir = r\"C:\\Richardt\\OmniPhotos\\data\\Casual3D\\gasworks_pano\\Cache\\25-2k-2k-DIS\"\n",
    "# cache_dir = r\"C:\\Richardt\\OmniPhotos\\data\\Casual3D\\jakobstad_pano\\Cache\\25-2k-2k-DIS\"\n",
    "cache_dir = r\"C:\\Richardt\\OmniPhotos\\data\\Casual3D\\library_pano\\Cache\\29-2k-2k-DIS\"\n",
    "\n",
    "# A - normal (no basis change)\n",
    "points_a = read_pointcloud_csv(cache_dir + r\"-nobasischange\\PointCloud.csv\")\n",
    "\n",
    "# B - stabilised (with basis change)\n",
    "points_b = read_pointcloud_csv(cache_dir + r\"\\PointCloud.csv\")"
   ]
  },
  {
   "cell_type": "code",
   "execution_count": null,
   "metadata": {},
   "outputs": [],
   "source": [
    "P  = np.mat(points_a[:,1:4]).T  # normal points\n",
    "Pp = np.mat(points_b[:,1:4]).T  # after basis change points\n",
    "\n",
    "# Add homogeneous component\n",
    "Ph = np.mat(np.concatenate([P, np.ones([1, P.shape[1]], np.float64)], axis=0))\n",
    "Pph = np.mat(np.concatenate([Pp, np.ones([1, Pp.shape[1]], np.float64)], axis=0))\n",
    "\n",
    "# Homogeneous transformation from P to Pp\n",
    "T = Pph * Ph.T * (Ph * Ph.T).I\n",
    "T"
   ]
  },
  {
   "cell_type": "code",
   "execution_count": null,
   "metadata": {},
   "outputs": [],
   "source": [
    "## Transform a point from A to B (apply basis change)\n",
    "X = np.mat([94.5895,-26.593,84.3473,1]).T\n",
    "T * X"
   ]
  },
  {
   "cell_type": "code",
   "execution_count": null,
   "metadata": {},
   "outputs": [],
   "source": [
    "# X = np.mat([-93.58,-19.5173,-87.3538,1]).T\n",
    "\n",
    "# X = np.mat([1e10 * np.sin(np.deg2rad(109)), 0, 1e10 * -np.cos(np.deg2rad(109)), 1]).T  # boatshed look-at point\n",
    "# X = np.mat([500000,300000,900000,1], np.float64).T  # creepy attic look-at point\n",
    "# X = np.mat([1e10 * np.sin(np.deg2rad(150)), 0, 1e10 * -np.cos(np.deg2rad(150)), 1]).T  # gasworks look-at point\n",
    "# X = np.mat([0, 0, 1e10, 1]).T  # jakobstad look-at point\n",
    "X = np.mat([1e10 * np.sin(np.deg2rad(-135)), 0, 1e10 * -np.cos(np.deg2rad(-135)), 1]).T  # library look-at point\n",
    "\n",
    "T.I * X"
   ]
  }
 ],
 "metadata": {
  "kernelspec": {
   "display_name": "Python 3",
   "language": "python",
   "name": "python3"
  },
  "language_info": {
   "codemirror_mode": {
    "name": "ipython",
    "version": 3
   },
   "file_extension": ".py",
   "mimetype": "text/x-python",
   "name": "python",
   "nbconvert_exporter": "python",
   "pygments_lexer": "ipython3",
   "version": "3.7.7"
  }
 },
 "nbformat": 4,
 "nbformat_minor": 4
}
