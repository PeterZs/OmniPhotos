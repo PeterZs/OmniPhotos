{
 "cells": [
  {
   "cell_type": "code",
   "execution_count": null,
   "metadata": {},
   "outputs": [],
   "source": [
    "%pylab inline\n",
    "#!/usr/bin/env python -u\n",
    "# -*- coding: utf-8 -*-\n",
    "\n",
    "import os\n",
    "\n",
    "import cv2\n",
    "import numpy as np\n",
    "\n",
    "## Install the following Python libraries:\n",
    "##   pip install rotlib\n",
    "##   pip install skylibs\n",
    "import envmap"
   ]
  },
  {
   "cell_type": "code",
   "execution_count": null,
   "metadata": {},
   "outputs": [],
   "source": [
    "## First attempt to construct a rotation matrix from a look-at point. NOT TESTED.\n",
    "def lookAt(target, up):\n",
    "    # Convert points to column vectors.\n",
    "    target = np.array(target).squeeze()\n",
    "    up = np.array(up).squeeze()\n",
    "    \n",
    "    # Construct rotation matrix (modelled after glm::lookAtRH(eye, center, up))\n",
    "    f = target / np.linalg.norm(target)  # forward\n",
    "    s = np.cross(f, up); s /= np.linalg.norm(s)  # right (side)\n",
    "    u = np.cross(s, f)  # up\n",
    "    M = np.mat(np.vstack([s, u, -f]))\n",
    "    \n",
    "    return M\n",
    "\n",
    "# P = [[0,0,-1]]\n",
    "# R = lookAt(P, [0,-1,0])\n",
    "# print(f\"R =\\n{R}\")\n",
    "# R * np.mat(P).T"
   ]
  },
  {
   "cell_type": "markdown",
   "metadata": {},
   "source": [
    "## Step 1. Extract video frames using FFMPEG\n",
    "\n",
    "```mkdir frames\n",
    "ffmpeg -i VIDEO.mp4 -q 2 frames\\%04d.jpg```"
   ]
  },
  {
   "cell_type": "code",
   "execution_count": null,
   "metadata": {},
   "outputs": [],
   "source": [
    "video_dir = r\"G:\\OmniPhotos\\data\\2018-09 360 videos from Canada\\30fps\"\n",
    "videos = [e for e in os.listdir(video_dir) if 'stitch' in e]\n",
    "# print(videos)\n",
    "\n",
    "print(f\"cd \\\"{video_dir}\\\"\\n\")\n",
    "for video in videos:\n",
    "    output_path = video[:-4]\n",
    "    print(f\"mkdir \\\"{output_path}\\\"\")\n",
    "    print(f\"ffmpeg -i \\\"{video}\\\" -q 2 \\\"{output_path}\\\\%04d.jpg\\\"\")  # use '%%' in batch files to escape '%'\n",
    "    print()"
   ]
  },
  {
   "cell_type": "markdown",
   "metadata": {},
   "source": [
    "## Step 2. Extract perspective views"
   ]
  },
  {
   "cell_type": "code",
   "execution_count": null,
   "metadata": {},
   "outputs": [],
   "source": [
    "working_dir = r\"G:\\OmniPhotos\\data\\Jaman\\Studio-flow-stitch\"\n",
    "\n",
    "output_dir = working_dir + '-pinhole-azimuth-test'\n",
    "if not os.path.exists(output_dir):\n",
    "    os.mkdir(output_dir)"
   ]
  },
  {
   "cell_type": "code",
   "execution_count": null,
   "metadata": {},
   "outputs": [],
   "source": [
    "rotation = np.eye(3)  # look forward\n",
    "# rotation = np.mat([[-1, 0, 0], [0, 1, 0], [0, 0, -1]])  # look backward\n",
    "vfov = 120\n",
    "resolution = (1200, 1200)\n",
    "aspect = resolution[0] / resolution[1]\n",
    "# aspect = 1.  # NB. aspect ratio of viewing angles (hfov / vfov), not resolution (width / height)\n",
    "\n",
    "for frame in range(137, 2000):\n",
    "    filename = os.path.join(working_dir, '%04d.jpg' % frame)\n",
    "#     print(filename)\n",
    "\n",
    "    image = cv2.imread(filename)\n",
    "    image = image[:,:,::-1] / 255.  # convert to unit range RGB\n",
    "#     imshow(image)\n",
    "\n",
    "    env = envmap.EnvironmentMap(image, 'latlong')\n",
    "    \n",
    "    pinhole = env.project(vfov, rotation, ar=aspect, resolution=resolution)\n",
    "#     imshow(pinhole)\n",
    "\n",
    "    cv2.imwrite(os.path.join(output_dir, '%04d.jpg' % frame), 255 * pinhole[:,:,::-1])\n",
    "    \n",
    "    if frame == 1:\n",
    "        mask = env.project(vfov, rotation, ar=aspect, mode='mask')\n",
    "        cv2.imwrite(os.path.join(output_dir, 'mask.png'), 255 * mask)\n",
    "\n",
    "    print(frame, end=', ')"
   ]
  },
  {
   "cell_type": "code",
   "execution_count": null,
   "metadata": {},
   "outputs": [],
   "source": [
    "## Construct intrinsic matrix L.\n",
    "f_x = (resolution[0] / 2.) / tan(vfov * aspect / 180. * np.pi / 2.)\n",
    "f_y = (resolution[1] / 2.) / tan(vfov / 180. * np.pi / 2.)\n",
    "K = np.mat([[f_x, 0., resolution[0] / 2.], [0., f_y, resolution[1] / 2.], [0., 0., 1.]])\n",
    "print(K)"
   ]
  },
  {
   "cell_type": "markdown",
   "metadata": {},
   "source": [
    "----\n",
    "## Explore different parameters"
   ]
  },
  {
   "cell_type": "code",
   "execution_count": null,
   "metadata": {},
   "outputs": [],
   "source": [
    "#rotation = np.eye(3)  # look forward\n",
    "# rotation = np.mat([[-1, 0, 0], [0, 1, 0], [0, 0, -1]])  # look backward\n",
    "vfov = 120\n",
    "aspect = 1.\n",
    "resolution=(1200, 1200)\n",
    "\n",
    "frame = 1\n",
    "filename = os.path.join(working_dir, '%04d.jpg' % frame)\n",
    "#     print(filename)\n",
    "image = cv2.imread(filename)\n",
    "image = image[:,:,::-1] / 255.  # convert to unit range RGB\n",
    "#     imshow(image)\n",
    "env = envmap.EnvironmentMap(image, 'latlong')\n",
    "\n",
    "for angle_deg in range(0, 360, 30):\n",
    "    angle = np.deg2rad(angle_deg)\n",
    "    rotation = np.mat([\n",
    "        [np.cos(angle), 0, np.sin(angle)],\n",
    "        [0, 1, 0],\n",
    "        [-np.sin(angle), 0, np.cos(angle)]])\n",
    "\n",
    "    pinhole = env.project(vfov, rotation, ar=aspect, resolution=resolution)\n",
    "    imshow(pinhole)\n",
    "\n",
    "#     cv2.imwrite(os.path.join(output_dir, '%04d-azimuth%03d.jpg' % (frame, angle_deg)), 255 * pinhole[:,:,::-1])\n",
    "    \n",
    "# #     if frame == 1:\n",
    "#     mask = env.project(vfov, rotation, ar=aspect, mode='mask')\n",
    "#     cv2.imwrite(os.path.join(output_dir, 'mask-azimuth%03i.png' % angle_deg), 255 * mask)\n",
    "\n",
    "#     print(frame, end=', ')"
   ]
  }
 ],
 "metadata": {
  "kernelspec": {
   "display_name": "Python 3",
   "language": "python",
   "name": "python3"
  },
  "language_info": {
   "codemirror_mode": {
    "name": "ipython",
    "version": 3
   },
   "file_extension": ".py",
   "mimetype": "text/x-python",
   "name": "python",
   "nbconvert_exporter": "python",
   "pygments_lexer": "ipython3",
   "version": "3.7.4"
  }
 },
 "nbformat": 4,
 "nbformat_minor": 1
}
